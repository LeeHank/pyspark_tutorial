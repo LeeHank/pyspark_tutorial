{
 "cells": [
  {
   "cell_type": "markdown",
   "metadata": {},
   "source": [
    "# DataFrame details"
   ]
  },
  {
   "cell_type": "code",
   "execution_count": 14,
   "metadata": {},
   "outputs": [],
   "source": [
    "from pyspark.sql import SparkSession\n",
    "from pyspark.sql import functions as F\n",
    "\n",
    "spark = SparkSession.builder.getOrCreate()"
   ]
  },
  {
   "cell_type": "markdown",
   "metadata": {},
   "source": [
    "## Intro to data cleaning with Apache Spark"
   ]
  },
  {
   "cell_type": "markdown",
   "metadata": {},
   "source": [
    "* 資料清理要做的事情包括：  \n",
    "  * reformating and/or replacing texts\n",
    "  * reforming calculations\n",
    "  * removing garbage or incomplete data  \n",
    "* Problems with typical data systems:  \n",
    "  * Performance. \n",
    "  * Organizing data flow  \n",
    "* Spark 的優勢. \n",
    "  * Scalable. \n",
    "  * Powerful framework for data handling. \n",
    "* Spark Schemas. \n",
    "  * 可用來定義 DataFrame 的 format(i.e. 各個欄位的資料類型: Strings, dates, integers, arrays.)  \n",
    "  * 可以在 import 階段，就濾掉 garbage data\n",
    "  * 可以增加讀檔效率"
   ]
  },
  {
   "cell_type": "code",
   "execution_count": null,
   "metadata": {},
   "outputs": [],
   "source": [
    "from pyspark.sql.types import *\n",
    "\n",
    "peopleSchema = StructType([\n",
    "    StructField('name', StringType(), True),\n",
    "    StructField('age', IntegerType(), True),\n",
    "    StructField('city', StringType(), True),\n",
    "])\n",
    "\n",
    "people_df = spark.read.format('csv').load(name=\"rawdata.csv\", schema = peopleSchema)"
   ]
  },
  {
   "cell_type": "markdown",
   "metadata": {},
   "source": [
    "## Using lazy processing"
   ]
  },
  {
   "cell_type": "code",
   "execution_count": 86,
   "metadata": {},
   "outputs": [],
   "source": [
    "aa_dfw_df = spark.read.format('csv').options(Header=True).load('data/AA_DFW_2017_Departures_Short.csv.gz')"
   ]
  },
  {
   "cell_type": "code",
   "execution_count": 87,
   "metadata": {},
   "outputs": [
    {
     "name": "stdout",
     "output_type": "stream",
     "text": [
      "CPU times: user 2.25 ms, sys: 1.39 ms, total: 3.65 ms\n",
      "Wall time: 18 ms\n"
     ]
    }
   ],
   "source": [
    "%%time\n",
    "aa_dfw_df = aa_dfw_df \\\n",
    "    .withColumn('airport', F.lower('Destination Airport')) \\\n",
    "    .withColumnRenamed('Date (MM/DD/YYYY)', 'date') \\\n",
    "    .withColumnRenamed('Flight Number', 'flight_number') \\\n",
    "    .withColumnRenamed('Actual elapsed time (Minutes)', 'actual_elapsed_time') \\\n",
    "    .drop('Destination Airport')"
   ]
  },
  {
   "cell_type": "code",
   "execution_count": 88,
   "metadata": {},
   "outputs": [
    {
     "name": "stdout",
     "output_type": "stream",
     "text": [
      "+----------+-------------+-------------------+-------+\n",
      "|      date|flight_number|actual_elapsed_time|airport|\n",
      "+----------+-------------+-------------------+-------+\n",
      "|01/01/2017|         0005|                537|    hnl|\n",
      "|01/01/2017|         0007|                498|    ogg|\n",
      "|01/01/2017|         0037|                241|    sfo|\n",
      "|01/01/2017|         0043|                134|    dtw|\n",
      "|01/01/2017|         0051|                 88|    stl|\n",
      "|01/01/2017|         0060|                149|    mia|\n",
      "|01/01/2017|         0071|                203|    lax|\n",
      "|01/01/2017|         0074|                 76|    mem|\n",
      "|01/01/2017|         0081|                123|    den|\n",
      "|01/01/2017|         0089|                161|    slc|\n",
      "|01/01/2017|         0096|                 84|    stl|\n",
      "|01/01/2017|         0103|                216|    sjc|\n",
      "|01/01/2017|         0119|                514|    ogg|\n",
      "|01/01/2017|         0123|                529|    hnl|\n",
      "|01/01/2017|         0126|                171|    lga|\n",
      "|01/01/2017|         0132|                188|    ewr|\n",
      "|01/01/2017|         0140|                231|    sjc|\n",
      "|01/01/2017|         0174|                145|    rdu|\n",
      "|01/01/2017|         0176|                184|    bos|\n",
      "|01/01/2017|         0190|                 76|    sat|\n",
      "+----------+-------------+-------------------+-------+\n",
      "only showing top 20 rows\n",
      "\n",
      "CPU times: user 1.45 ms, sys: 1.82 ms, total: 3.27 ms\n",
      "Wall time: 65.2 ms\n"
     ]
    }
   ],
   "source": [
    "%%time\n",
    "aa_dfw_df.show()"
   ]
  },
  {
   "cell_type": "markdown",
   "metadata": {},
   "source": [
    "* 可以注意到，前面在做 transformation 的每個步驟時，處理時間都超短(因為他只記錄你的recipe，沒有真的執行). \n",
    "* 直到 show data 時，他才一次執行"
   ]
  },
  {
   "cell_type": "markdown",
   "metadata": {},
   "source": [
    "## Understanding Parquet"
   ]
  },
  {
   "cell_type": "markdown",
   "metadata": {},
   "source": [
    "* 當我們剛開始接觸 spark 的時候，常常都是先從 csv, json 這種格式來讀資料。這些格式可以彈性支援不同類型的資料，但對 spark 來說，並不是最好的格式。  \n",
    "* 舉例來說，CSV file 具有以下缺點. \n",
    "  * 沒有幫我們定義 schema. \n",
    "  * 如果是 nested data，需要特殊處理. \n",
    "  * encoding format limited  \n",
    "* 以至於用 spark 去讀 csv 時，會出現：  \n",
    "  * slow to parse. \n",
    "  * 沒辦法讀取部分資料就好 (無法在讀取時做filter，專業術語叫 no \"predicate pushdown\")  \n",
    "* Parquet format. \n",
    "  * 是一種 columnar data format, Spark和其他 data processing frameworks都有支援這種格式\n",
    "  * 有自動存取 schema information  \n",
    "  * supports predicate pushdown (不用讀完一整張資料).  \n",
    "* 讀檔和寫檔的範例如下  \n",
    "\n",
    "```\n",
    "# read\n",
    "df = spark.read.format(\"parquet\").load(\"filename.parquet\")\n",
    "df = spark.read.parquet(\"filename.parquet\")\n",
    "\n",
    "# write\n",
    "df.write.format(\"parquet\").save(\"filename.parquet\")\n",
    "df.write.parquet(\"filename.parquet\")\n",
    "```"
   ]
  },
  {
   "cell_type": "markdown",
   "metadata": {},
   "source": [
    "* 我們這邊來練習，先把剛剛已讀進來的資料寫出成 parquet 檔，再讀進來"
   ]
  },
  {
   "cell_type": "code",
   "execution_count": 89,
   "metadata": {},
   "outputs": [],
   "source": [
    "aa_dfw_df.write.parquet(\"data/aa_dfw_all.parquet\")"
   ]
  },
  {
   "cell_type": "code",
   "execution_count": 90,
   "metadata": {},
   "outputs": [],
   "source": [
    "aa_dfw_df_from_parquet = spark.read.parquet(\"data/aa_dfw_all.parquet\")"
   ]
  },
  {
   "cell_type": "code",
   "execution_count": 91,
   "metadata": {},
   "outputs": [
    {
     "data": {
      "text/plain": [
       "139358"
      ]
     },
     "execution_count": 91,
     "metadata": {},
     "output_type": "execute_result"
    }
   ],
   "source": [
    "aa_dfw_df_from_parquet.count()"
   ]
  },
  {
   "cell_type": "markdown",
   "metadata": {},
   "source": [
    "## 將資料註冊到 TempView 後，可直接用 sql 指令"
   ]
  },
  {
   "cell_type": "code",
   "execution_count": 105,
   "metadata": {},
   "outputs": [
    {
     "name": "stdout",
     "output_type": "stream",
     "text": [
      "+------------------------+\n",
      "|avg(actual_elapsed_time)|\n",
      "+------------------------+\n",
      "|      151.99931112673832|\n",
      "+------------------------+\n",
      "\n"
     ]
    }
   ],
   "source": [
    "# 將 spark DataFrame 註冊到 TempView 裡面\n",
    "aa_dfw_df_from_parquet.createOrReplaceTempView('aa_dfw_view') # 註冊的名字自己取\n",
    "\n",
    "# 可以下 sql 語法了\n",
    "query_res = spark.sql('SELECT avg(actual_elapsed_time) from aa_dfw_view')\n",
    "query_res.show()"
   ]
  },
  {
   "cell_type": "markdown",
   "metadata": {},
   "source": [
    "# Querys"
   ]
  },
  {
   "cell_type": "code",
   "execution_count": null,
   "metadata": {},
   "outputs": [],
   "source": [
    "# select\n",
    "voters = voter_df.select('name', 'position')\n",
    "voters = voter_df.select(voter_df.name) # 抓出 name 這個欄位\n",
    "\n",
    "# filter\n",
    "voter_df.filter(voter_df.name.like(\"M%\")) # 抓出 name 裡面有 ”M\" 開頭的字\n",
    "voter_df.filter(voter_df['name'].isNotNull()) # 抓出 name 裡面不是 null 的值\n",
    "voter_df.where(~voter_df._c1.isNull()) # 抓出 _c1 裡面不是 null 的值 (~ 就是 R 的 !)\n",
    "voter_df.filter(voter_df.date > '1/1/2019') # 抓出 date 裡面大於 '1/1/2019' 的值\n",
    "voter_df.filter(voter_df.date.year > 1800)\n",
    "\n",
    "\n",
    "# mutate (i.e. withColumn)\n",
    "import pyspark.sql.functions as F\n",
    "voter_df.withColumn('year', voter_df.date.year) # 新增 year 這個欄位，內容就是 voter_df.date.year\n",
    "voter_df.withColumn('name_upper_case', F.upper('name'))\n",
    "voter_df.withColumn('splits', F.split('name', ' '))\n",
    "voter_df.withColumn('year', voter_df['_c4'].cast(IntegerType()))\n",
    "\n",
    "# drop\n",
    "voter_df.drop('unused_column') # 刪掉 \"unused_column\". \n",
    "\n",
    "# distinct\n",
    "voter_df.select(voter_df['VOTER_NAME']).distinct()\n",
    "\n"
   ]
  },
  {
   "cell_type": "code",
   "execution_count": 124,
   "metadata": {},
   "outputs": [
    {
     "name": "stdout",
     "output_type": "stream",
     "text": [
      "+----------+-------------+-------------------+\n",
      "|      DATE|        TITLE|         VOTER_NAME|\n",
      "+----------+-------------+-------------------+\n",
      "|02/08/2017|Councilmember|  Jennifer S. Gates|\n",
      "|02/08/2017|Councilmember| Philip T. Kingston|\n",
      "|02/08/2017|        Mayor|Michael S. Rawlings|\n",
      "|02/08/2017|Councilmember|       Adam Medrano|\n",
      "|02/08/2017|Councilmember|       Casey Thomas|\n",
      "|02/08/2017|Councilmember|Carolyn King Arnold|\n",
      "|02/08/2017|Councilmember|       Scott Griggs|\n",
      "|02/08/2017|Councilmember|   B. Adam  McGough|\n",
      "|02/08/2017|Councilmember|       Lee Kleinman|\n",
      "|02/08/2017|Councilmember|      Sandy Greyson|\n",
      "|02/08/2017|Councilmember|  Jennifer S. Gates|\n",
      "|02/08/2017|Councilmember| Philip T. Kingston|\n",
      "|02/08/2017|        Mayor|Michael S. Rawlings|\n",
      "|02/08/2017|Councilmember|       Adam Medrano|\n",
      "|02/08/2017|Councilmember|       Casey Thomas|\n",
      "|02/08/2017|Councilmember|Carolyn King Arnold|\n",
      "|02/08/2017|Councilmember| Rickey D. Callahan|\n",
      "|01/11/2017|Councilmember|  Jennifer S. Gates|\n",
      "|04/25/2018|Councilmember|     Sandy  Greyson|\n",
      "|04/25/2018|Councilmember| Jennifer S.  Gates|\n",
      "+----------+-------------+-------------------+\n",
      "only showing top 20 rows\n",
      "\n"
     ]
    }
   ],
   "source": [
    "voter_df = spark.read.format('csv').options(Header=True).load('data/DallasCouncilVoters.csv.gz')\n",
    "voter_df.show()"
   ]
  },
  {
   "cell_type": "code",
   "execution_count": 113,
   "metadata": {},
   "outputs": [
    {
     "name": "stdout",
     "output_type": "stream",
     "text": [
      "+---------------------------------------------------------------------------------------------------------------------------------------------------------------------------------------------------------------------------------------------------------------------------------------------------------------------------------------------------------------------------------------------------------------------------+\n",
      "|VOTER_NAME                                                                                                                                                                                                                                                                                                                                                                                                                 |\n",
      "+---------------------------------------------------------------------------------------------------------------------------------------------------------------------------------------------------------------------------------------------------------------------------------------------------------------------------------------------------------------------------------------------------------------------------+\n",
      "|Tennell Atkins                                                                                                                                                                                                                                                                                                                                                                                                             |\n",
      "|  the  final   2018 Assessment Plan and the 2018 Assessment  Roll  (to  be  kept  on  file  with  the  City  Secretary);  establishing  classifications  for   the   apportionment   of   costs and the methods of assessing special assessments for the services and improvements to property in the District;  closing  the  hearing  and  levying  a  special  assessment  on  property  in  the  District              |\n",
      "|Scott Griggs                                                                                                                                                                                                                                                                                                                                                                                                               |\n",
      "|Scott  Griggs                                                                                                                                                                                                                                                                                                                                                                                                              |\n",
      "|Sandy Greyson                                                                                                                                                                                                                                                                                                                                                                                                              |\n",
      "|Michael S. Rawlings                                                                                                                                                                                                                                                                                                                                                                                                        |\n",
      "| the final 2018 Assessment Plan and the 2018 Assessment  Roll  (to  be  kept  on  file  with  the  City  Secretary);  establishing  classifications  for  the   apportionment   of   costs and  the  methods  of  assessing  special  assessments  on  Dallas  hotels  with    100 or more rooms                                                                                                                           |\n",
      "|Kevin Felder                                                                                                                                                                                                                                                                                                                                                                                                               |\n",
      "|Adam Medrano                                                                                                                                                                                                                                                                                                                                                                                                               |\n",
      "|Casey  Thomas                                                                                                                                                                                                                                                                                                                                                                                                              |\n",
      "|null                                                                                                                                                                                                                                                                                                                                                                                                                       |\n",
      "|   the   final  2018 Assessment  Plan  and  the  2018 Assessment  Roll  (to  be  kept  on  file   with the City Secretary); establishing classifications  for  the  apportionment  of  costs  and  the  methods  of  assessing  special  assessments  for  the  services  and  improvements  to  property  in  the  District;  closing  the  hearing  and  levying  a special  assessment  on  property  in  the  District |\n",
      "|011018__42                                                                                                                                                                                                                                                                                                                                                                                                                 |\n",
      "|Mark  Clayton                                                                                                                                                                                                                                                                                                                                                                                                              |\n",
      "|Casey Thomas                                                                                                                                                                                                                                                                                                                                                                                                               |\n",
      "|Sandy  Greyson                                                                                                                                                                                                                                                                                                                                                                                                             |\n",
      "|Mark Clayton                                                                                                                                                                                                                                                                                                                                                                                                               |\n",
      "|Jennifer S.  Gates                                                                                                                                                                                                                                                                                                                                                                                                         |\n",
      "|Tiffinni A. Young                                                                                                                                                                                                                                                                                                                                                                                                          |\n",
      "|  the  final  2018 Assessment  Plan   and   the   2018 Assessment   Roll  (to  be  kept  on  file  with  the  City  Secretary);  establishing   classifications  for the apportionment of costs and the  methods  of  assessing  special  assessments for the services and improvements  to  property  in  the  District;  closing the hearing and  levying  a  special  assessment  on  property  in  the  District       |\n",
      "|B. Adam  McGough                                                                                                                                                                                                                                                                                                                                                                                                           |\n",
      "|Omar Narvaez                                                                                                                                                                                                                                                                                                                                                                                                               |\n",
      "|Philip T. Kingston                                                                                                                                                                                                                                                                                                                                                                                                         |\n",
      "|Rickey D. Callahan                                                                                                                                                                                                                                                                                                                                                                                                         |\n",
      "|Dwaine R. Caraway                                                                                                                                                                                                                                                                                                                                                                                                          |\n",
      "|Philip T.  Kingston                                                                                                                                                                                                                                                                                                                                                                                                        |\n",
      "|Jennifer S. Gates                                                                                                                                                                                                                                                                                                                                                                                                          |\n",
      "|Lee M. Kleinman                                                                                                                                                                                                                                                                                                                                                                                                            |\n",
      "|Monica R. Alonzo                                                                                                                                                                                                                                                                                                                                                                                                           |\n",
      "|   the   final  2018 Assessment  Plan  and  the  2018 Assessment  Roll   (to  be  kept  on  file   with the City Secretary); establishing classifications  for  the  apportionment  of  costs  and  the  methods  of  assessing  special  assessments  for  the  services  and  improvements  to  property  in  the  District;  closing  the  hearing  and  levying  a special  assessment  on  property  in  the  District|\n",
      "|Rickey D.  Callahan                                                                                                                                                                                                                                                                                                                                                                                                        |\n",
      "|Carolyn King Arnold                                                                                                                                                                                                                                                                                                                                                                                                        |\n",
      "|  the  final   2018 Assessment Plan and the 2018 Assessment  Roll  (to  be  kept  on  file  with  the  City  Secretary);  establishing  classifications  for  the   apportionment   of   costs and the methods of assessing special assessments for the services and improvements to property in the District;  closing  the  hearing  and  levying  a  special  assessment  on  property  in  the  District               |\n",
      "|Erik Wilson                                                                                                                                                                                                                                                                                                                                                                                                                |\n",
      "|  the  final  2018 Assessment Plan and the 2018 Assessment  Roll  (to  be  kept  on  file  with  the  City  Secretary);  establishing  classifications  for  the   apportionment   of   costs and the methods of assessing special assessments for the services and improvements to property in the District; closing  the  hearing  and  levying  a  special  assessment  on  property  in  the  District                 |\n",
      "|Lee Kleinman                                                                                                                                                                                                                                                                                                                                                                                                               |\n",
      "+---------------------------------------------------------------------------------------------------------------------------------------------------------------------------------------------------------------------------------------------------------------------------------------------------------------------------------------------------------------------------------------------------------------------------+\n",
      "\n"
     ]
    }
   ],
   "source": [
    "# 找出 distinct 的 VOTER_NAME\n",
    "voter_df.select(voter_df['VOTER_NAME']).distinct().show(40, truncate=False)"
   ]
  },
  {
   "cell_type": "code",
   "execution_count": 125,
   "metadata": {},
   "outputs": [],
   "source": [
    "# Filter voter_df where the VOTER_NAME is 1-20 characters in length\n",
    "voter_df = voter_df.filter('length(VOTER_NAME) > 0 and length(VOTER_NAME) < 20')"
   ]
  },
  {
   "cell_type": "code",
   "execution_count": 126,
   "metadata": {},
   "outputs": [],
   "source": [
    "# Filter out voter_df where the VOTER_NAME contains an underscore\n",
    "voter_df = voter_df.filter(~ F.col('VOTER_NAME').contains('_'))"
   ]
  },
  {
   "cell_type": "code",
   "execution_count": 127,
   "metadata": {},
   "outputs": [
    {
     "name": "stdout",
     "output_type": "stream",
     "text": [
      "+-------------------+\n",
      "|VOTER_NAME         |\n",
      "+-------------------+\n",
      "|Tennell Atkins     |\n",
      "|Scott Griggs       |\n",
      "|Scott  Griggs      |\n",
      "|Sandy Greyson      |\n",
      "|Michael S. Rawlings|\n",
      "|Kevin Felder       |\n",
      "|Adam Medrano       |\n",
      "|Casey  Thomas      |\n",
      "|Mark  Clayton      |\n",
      "|Casey Thomas       |\n",
      "|Sandy  Greyson     |\n",
      "|Mark Clayton       |\n",
      "|Jennifer S.  Gates |\n",
      "|Tiffinni A. Young  |\n",
      "|B. Adam  McGough   |\n",
      "|Omar Narvaez       |\n",
      "|Philip T. Kingston |\n",
      "|Rickey D. Callahan |\n",
      "|Dwaine R. Caraway  |\n",
      "|Philip T.  Kingston|\n",
      "|Jennifer S. Gates  |\n",
      "|Lee M. Kleinman    |\n",
      "|Monica R. Alonzo   |\n",
      "|Rickey D.  Callahan|\n",
      "|Carolyn King Arnold|\n",
      "|Erik Wilson        |\n",
      "|Lee Kleinman       |\n",
      "+-------------------+\n",
      "\n"
     ]
    }
   ],
   "source": [
    "# Show the distinct VOTER_NAME entries again\n",
    "voter_df.select('VOTER_NAME').distinct().show(40, truncate=False)"
   ]
  },
  {
   "cell_type": "code",
   "execution_count": 128,
   "metadata": {},
   "outputs": [
    {
     "name": "stdout",
     "output_type": "stream",
     "text": [
      "+-------------------+-----------------------+\n",
      "|VOTER_NAME         |splits                 |\n",
      "+-------------------+-----------------------+\n",
      "|Tennell Atkins     |[Tennell, Atkins]      |\n",
      "|Scott Griggs       |[Scott, Griggs]        |\n",
      "|Scott  Griggs      |[Scott, Griggs]        |\n",
      "|Sandy Greyson      |[Sandy, Greyson]       |\n",
      "|Michael S. Rawlings|[Michael, S., Rawlings]|\n",
      "|Kevin Felder       |[Kevin, Felder]        |\n",
      "|Adam Medrano       |[Adam, Medrano]        |\n",
      "|Casey  Thomas      |[Casey, Thomas]        |\n",
      "|Mark  Clayton      |[Mark, Clayton]        |\n",
      "|Casey Thomas       |[Casey, Thomas]        |\n",
      "|Sandy  Greyson     |[Sandy, Greyson]       |\n",
      "|Mark Clayton       |[Mark, Clayton]        |\n",
      "|Jennifer S.  Gates |[Jennifer, S., Gates]  |\n",
      "|Tiffinni A. Young  |[Tiffinni, A., Young]  |\n",
      "|B. Adam  McGough   |[B., Adam, McGough]    |\n",
      "|Omar Narvaez       |[Omar, Narvaez]        |\n",
      "|Philip T. Kingston |[Philip, T., Kingston] |\n",
      "|Rickey D. Callahan |[Rickey, D., Callahan] |\n",
      "|Dwaine R. Caraway  |[Dwaine, R., Caraway]  |\n",
      "|Philip T.  Kingston|[Philip, T., Kingston] |\n",
      "|Jennifer S. Gates  |[Jennifer, S., Gates]  |\n",
      "|Lee M. Kleinman    |[Lee, M., Kleinman]    |\n",
      "|Monica R. Alonzo   |[Monica, R., Alonzo]   |\n",
      "|Rickey D.  Callahan|[Rickey, D., Callahan] |\n",
      "|Carolyn King Arnold|[Carolyn, King, Arnold]|\n",
      "|Erik Wilson        |[Erik, Wilson]         |\n",
      "|Lee Kleinman       |[Lee, Kleinman]        |\n",
      "+-------------------+-----------------------+\n",
      "\n"
     ]
    }
   ],
   "source": [
    "# 把 voter_name 依照空白切開 ( \\s+ 是正規表達式，表 Space or multiple space)\n",
    "voter_df = voter_df \\\n",
    "    .select('VOTER_NAME') \\\n",
    "    .distinct() \\\n",
    "    .withColumn(\"splits\", F.split(voter_df.VOTER_NAME, '\\s+'))\n",
    "\n",
    "voter_df.show(40, truncate=False)"
   ]
  },
  {
   "cell_type": "code",
   "execution_count": 133,
   "metadata": {},
   "outputs": [
    {
     "name": "stdout",
     "output_type": "stream",
     "text": [
      "+-------------------+--------------------+----------+---------+\n",
      "|         VOTER_NAME|              splits|first_name|last_name|\n",
      "+-------------------+--------------------+----------+---------+\n",
      "|     Tennell Atkins|   [Tennell, Atkins]|   Tennell|   Atkins|\n",
      "|       Scott Griggs|     [Scott, Griggs]|     Scott|   Griggs|\n",
      "|      Scott  Griggs|     [Scott, Griggs]|     Scott|   Griggs|\n",
      "|      Sandy Greyson|    [Sandy, Greyson]|     Sandy|  Greyson|\n",
      "|Michael S. Rawlings|[Michael, S., Raw...|   Michael| Rawlings|\n",
      "|       Kevin Felder|     [Kevin, Felder]|     Kevin|   Felder|\n",
      "|       Adam Medrano|     [Adam, Medrano]|      Adam|  Medrano|\n",
      "|      Casey  Thomas|     [Casey, Thomas]|     Casey|   Thomas|\n",
      "|      Mark  Clayton|     [Mark, Clayton]|      Mark|  Clayton|\n",
      "|       Casey Thomas|     [Casey, Thomas]|     Casey|   Thomas|\n",
      "|     Sandy  Greyson|    [Sandy, Greyson]|     Sandy|  Greyson|\n",
      "|       Mark Clayton|     [Mark, Clayton]|      Mark|  Clayton|\n",
      "| Jennifer S.  Gates|[Jennifer, S., Ga...|  Jennifer|    Gates|\n",
      "|  Tiffinni A. Young|[Tiffinni, A., Yo...|  Tiffinni|    Young|\n",
      "|   B. Adam  McGough| [B., Adam, McGough]|        B.|  McGough|\n",
      "|       Omar Narvaez|     [Omar, Narvaez]|      Omar|  Narvaez|\n",
      "| Philip T. Kingston|[Philip, T., King...|    Philip| Kingston|\n",
      "| Rickey D. Callahan|[Rickey, D., Call...|    Rickey| Callahan|\n",
      "|  Dwaine R. Caraway|[Dwaine, R., Cara...|    Dwaine|  Caraway|\n",
      "|Philip T.  Kingston|[Philip, T., King...|    Philip| Kingston|\n",
      "+-------------------+--------------------+----------+---------+\n",
      "only showing top 20 rows\n",
      "\n"
     ]
    }
   ],
   "source": [
    "# splits欄位的第一個element當 first_name, 最後一個 element 當 last_name\n",
    "voter_df = voter_df \\\n",
    "    .withColumn(\"first_name\", voter_df.splits.getItem(0)) \\\n",
    "    .withColumn(\"last_name\", voter_df.splits.getItem(F.size(voter_df.splits)-1))\n",
    "voter_df.show()"
   ]
  },
  {
   "cell_type": "markdown",
   "metadata": {},
   "source": [
    "### conditional"
   ]
  },
  {
   "cell_type": "markdown",
   "metadata": {},
   "source": [
    "* 就是 inline 版本的 if...else，但他的語法是 F.when()"
   ]
  },
  {
   "cell_type": "code",
   "execution_count": 135,
   "metadata": {},
   "outputs": [
    {
     "name": "stdout",
     "output_type": "stream",
     "text": [
      "+-------------------+--------------------+----------+---------+-------------------+\n",
      "|         VOTER_NAME|              splits|first_name|last_name|         random_val|\n",
      "+-------------------+--------------------+----------+---------+-------------------+\n",
      "|     Tennell Atkins|   [Tennell, Atkins]|   Tennell|   Atkins|               null|\n",
      "|       Scott Griggs|     [Scott, Griggs]|     Scott|   Griggs| 0.8397453373623534|\n",
      "|      Scott  Griggs|     [Scott, Griggs]|     Scott|   Griggs|0.39821883502048205|\n",
      "|      Sandy Greyson|    [Sandy, Greyson]|     Sandy|  Greyson|               null|\n",
      "|Michael S. Rawlings|[Michael, S., Raw...|   Michael| Rawlings|               null|\n",
      "|       Kevin Felder|     [Kevin, Felder]|     Kevin|   Felder|               null|\n",
      "|       Adam Medrano|     [Adam, Medrano]|      Adam|  Medrano|               null|\n",
      "|      Casey  Thomas|     [Casey, Thomas]|     Casey|   Thomas|               null|\n",
      "|      Mark  Clayton|     [Mark, Clayton]|      Mark|  Clayton|               null|\n",
      "|       Casey Thomas|     [Casey, Thomas]|     Casey|   Thomas|               null|\n",
      "|     Sandy  Greyson|    [Sandy, Greyson]|     Sandy|  Greyson|               null|\n",
      "|       Mark Clayton|     [Mark, Clayton]|      Mark|  Clayton|               null|\n",
      "| Jennifer S.  Gates|[Jennifer, S., Ga...|  Jennifer|    Gates|               null|\n",
      "|  Tiffinni A. Young|[Tiffinni, A., Yo...|  Tiffinni|    Young|               null|\n",
      "|   B. Adam  McGough| [B., Adam, McGough]|        B.|  McGough|               null|\n",
      "|       Omar Narvaez|     [Omar, Narvaez]|      Omar|  Narvaez|               null|\n",
      "| Philip T. Kingston|[Philip, T., King...|    Philip| Kingston|               null|\n",
      "| Rickey D. Callahan|[Rickey, D., Call...|    Rickey| Callahan|               null|\n",
      "|  Dwaine R. Caraway|[Dwaine, R., Cara...|    Dwaine|  Caraway|               null|\n",
      "|Philip T.  Kingston|[Philip, T., King...|    Philip| Kingston|               null|\n",
      "+-------------------+--------------------+----------+---------+-------------------+\n",
      "only showing top 20 rows\n",
      "\n"
     ]
    }
   ],
   "source": [
    "# first name 是 Scott 的，我給他 100 分\n",
    "voter_df \\\n",
    "    .withColumn('random_val', F.when(voter_df.first_name == 'Scott', 100)) \\\n",
    "    .show()"
   ]
  },
  {
   "cell_type": "code",
   "execution_count": 147,
   "metadata": {},
   "outputs": [
    {
     "name": "stdout",
     "output_type": "stream",
     "text": [
      "+-------------------+--------------------+----------+---------+----------+\n",
      "|         VOTER_NAME|              splits|first_name|last_name|random_val|\n",
      "+-------------------+--------------------+----------+---------+----------+\n",
      "|     Tennell Atkins|   [Tennell, Atkins]|   Tennell|   Atkins|      null|\n",
      "|       Scott Griggs|     [Scott, Griggs]|     Scott|   Griggs|       100|\n",
      "|      Scott  Griggs|     [Scott, Griggs]|     Scott|   Griggs|       100|\n",
      "|      Sandy Greyson|    [Sandy, Greyson]|     Sandy|  Greyson|      null|\n",
      "|Michael S. Rawlings|[Michael, S., Raw...|   Michael| Rawlings|      null|\n",
      "|       Kevin Felder|     [Kevin, Felder]|     Kevin|   Felder|      null|\n",
      "|       Adam Medrano|     [Adam, Medrano]|      Adam|  Medrano|      null|\n",
      "|      Casey  Thomas|     [Casey, Thomas]|     Casey|   Thomas|      null|\n",
      "|      Mark  Clayton|     [Mark, Clayton]|      Mark|  Clayton|      null|\n",
      "|       Casey Thomas|     [Casey, Thomas]|     Casey|   Thomas|      null|\n",
      "|     Sandy  Greyson|    [Sandy, Greyson]|     Sandy|  Greyson|      null|\n",
      "|       Mark Clayton|     [Mark, Clayton]|      Mark|  Clayton|      null|\n",
      "| Jennifer S.  Gates|[Jennifer, S., Ga...|  Jennifer|    Gates|      null|\n",
      "|  Tiffinni A. Young|[Tiffinni, A., Yo...|  Tiffinni|    Young|       200|\n",
      "|   B. Adam  McGough| [B., Adam, McGough]|        B.|  McGough|      null|\n",
      "|       Omar Narvaez|     [Omar, Narvaez]|      Omar|  Narvaez|      null|\n",
      "| Philip T. Kingston|[Philip, T., King...|    Philip| Kingston|      null|\n",
      "| Rickey D. Callahan|[Rickey, D., Call...|    Rickey| Callahan|      null|\n",
      "|  Dwaine R. Caraway|[Dwaine, R., Cara...|    Dwaine|  Caraway|      null|\n",
      "|Philip T.  Kingston|[Philip, T., King...|    Philip| Kingston|      null|\n",
      "+-------------------+--------------------+----------+---------+----------+\n",
      "only showing top 20 rows\n",
      "\n"
     ]
    }
   ],
   "source": [
    "# first name 是 Scott 的，我給他 100 分，last name 是 Young 的，我給他 200 分\n",
    "voter_df \\\n",
    "    .withColumn('random_val', \n",
    "                F.when(voter_df.first_name == 'Scott', 100) \\\n",
    "                .when(voter_df.last_name == \"Young\", 200)) \\\n",
    "    .show()"
   ]
  },
  {
   "cell_type": "code",
   "execution_count": 148,
   "metadata": {},
   "outputs": [
    {
     "name": "stdout",
     "output_type": "stream",
     "text": [
      "+-------------------+--------------------+----------+---------+--------------------+\n",
      "|         VOTER_NAME|              splits|first_name|last_name|          random_val|\n",
      "+-------------------+--------------------+----------+---------+--------------------+\n",
      "|     Tennell Atkins|   [Tennell, Atkins]|   Tennell|   Atkins| 0.46561124067118864|\n",
      "|       Scott Griggs|     [Scott, Griggs]|     Scott|   Griggs|               100.0|\n",
      "|      Scott  Griggs|     [Scott, Griggs]|     Scott|   Griggs|               100.0|\n",
      "|      Sandy Greyson|    [Sandy, Greyson]|     Sandy|  Greyson| 0.09429919082559512|\n",
      "|Michael S. Rawlings|[Michael, S., Raw...|   Michael| Rawlings|  0.5172720122340274|\n",
      "|       Kevin Felder|     [Kevin, Felder]|     Kevin|   Felder|  0.9915181440119077|\n",
      "|       Adam Medrano|     [Adam, Medrano]|      Adam|  Medrano|  0.5239224238540311|\n",
      "|      Casey  Thomas|     [Casey, Thomas]|     Casey|   Thomas|  0.5664971283177345|\n",
      "|      Mark  Clayton|     [Mark, Clayton]|      Mark|  Clayton|0.058264465271056665|\n",
      "|       Casey Thomas|     [Casey, Thomas]|     Casey|   Thomas|  0.8673217502730166|\n",
      "|     Sandy  Greyson|    [Sandy, Greyson]|     Sandy|  Greyson| 0.23874763539881294|\n",
      "|       Mark Clayton|     [Mark, Clayton]|      Mark|  Clayton|  0.8478821154555607|\n",
      "| Jennifer S.  Gates|[Jennifer, S., Ga...|  Jennifer|    Gates| 0.09103982719280324|\n",
      "|  Tiffinni A. Young|[Tiffinni, A., Yo...|  Tiffinni|    Young|               200.0|\n",
      "|   B. Adam  McGough| [B., Adam, McGough]|        B.|  McGough| 0.20787760456001536|\n",
      "|       Omar Narvaez|     [Omar, Narvaez]|      Omar|  Narvaez|  0.8705654388560385|\n",
      "| Philip T. Kingston|[Philip, T., King...|    Philip| Kingston| 0.37478501418131427|\n",
      "| Rickey D. Callahan|[Rickey, D., Call...|    Rickey| Callahan| 0.02407038052562549|\n",
      "|  Dwaine R. Caraway|[Dwaine, R., Cara...|    Dwaine|  Caraway| 0.23336689291249124|\n",
      "|Philip T.  Kingston|[Philip, T., King...|    Philip| Kingston|  0.7845699225192583|\n",
      "+-------------------+--------------------+----------+---------+--------------------+\n",
      "only showing top 20 rows\n",
      "\n"
     ]
    }
   ],
   "source": [
    "# 其他的，我給他 0~1 的 random number\n",
    "voter_df \\\n",
    "    .withColumn('random_val', \n",
    "                F.when(voter_df.first_name == 'Scott', 100) \\\n",
    "                .when(voter_df.last_name == \"Young\", 200) \\\n",
    "                .otherwise(F.rand())) \\\n",
    "    .show()"
   ]
  },
  {
   "cell_type": "code",
   "execution_count": null,
   "metadata": {},
   "outputs": [],
   "source": [
    "df.select(df.Name, df.Age, F.when(df.Age>=18, \"Adult\"))\n",
    "df.select(df.Name, df.Age, \n",
    "          F.when(df.Age>=18, \"Adult\")\n",
    "         F.when())\n",
    "\n",
    "df.select(df.Name, df.Age, \n",
    "          F.when(df.Age>=18, \"Adult\")\n",
    "         F.otherwise(\"Minor\"))"
   ]
  }
 ],
 "metadata": {
  "kernelspec": {
   "display_name": "Python 3",
   "language": "python",
   "name": "python3"
  },
  "language_info": {
   "codemirror_mode": {
    "name": "ipython",
    "version": 3
   },
   "file_extension": ".py",
   "mimetype": "text/x-python",
   "name": "python",
   "nbconvert_exporter": "python",
   "pygments_lexer": "ipython3",
   "version": "3.8.0"
  }
 },
 "nbformat": 4,
 "nbformat_minor": 4
}
